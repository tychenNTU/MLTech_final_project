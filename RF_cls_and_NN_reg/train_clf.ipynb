{
 "cells": [
  {
   "cell_type": "code",
   "execution_count": 8,
   "metadata": {},
   "outputs": [],
   "source": [
    "import pandas as pd\n",
    "import numpy as np\n",
    "import os\n",
    "from sklearn.ensemble import RandomForestClassifier\n",
    "from sklearn.pipeline import Pipeline\n",
    "from sklearn.model_selection import train_test_split, KFold, cross_validate, cross_val_score, GridSearchCV\n",
    "import joblib\n",
    "import datautil\n",
    "from sklearn.metrics import classification_report\n",
    "from pprint import pprint"
   ]
  },
  {
   "cell_type": "code",
   "execution_count": 2,
   "metadata": {},
   "outputs": [],
   "source": [
    "full_data = pd.read_csv('../train.csv')\n",
    "full_data = full_data[(full_data['adr'] < 1000) & (full_data['adr'] > -100)] # remove outliers\n",
    "\n",
    "# get the preprocessor and the default training features\n",
    "preprocessor, features_spec = datautil.get_the_data_preprocessor()\n",
    "\n",
    "# split data into input and labeled\n",
    "X_train_full_raw = full_data[features_spec]\n",
    "y_train_full = np.array(full_data['is_canceled'])\n",
    "X_transformed = preprocessor.fit_transform(X_train_full_raw)"
   ]
  },
  {
   "cell_type": "code",
   "execution_count": 5,
   "metadata": {},
   "outputs": [
    {
     "name": "stdout",
     "output_type": "stream",
     "text": [
      "Mean accuracy is: 0.8764477157641594\n"
     ]
    }
   ],
   "source": [
    "# build the random forest classifier\n",
    "rf_cls = RandomForestClassifier(random_state=42, n_jobs=1) # n_job = -1 will cause error on Linux workstation\n",
    "kfolds = 5 # 5-cross validation\n",
    "split = KFold(kfolds, shuffle=True, random_state=42)\n",
    "\n",
    "cv_results = cross_val_score(rf_cls, X_transformed, y_train_full, \n",
    "                            cv=split, scoring=\"accuracy\")\n",
    "print(\"Mean accuracy is: \" + str(np.mean(cv_results)))"
   ]
  },
  {
   "cell_type": "code",
   "execution_count": 6,
   "metadata": {},
   "outputs": [
    {
     "name": "stdout",
     "output_type": "stream",
     "text": [
      "Parameters currently in use:\n",
      "\n",
      "{'bootstrap': True,\n",
      " 'ccp_alpha': 0.0,\n",
      " 'class_weight': None,\n",
      " 'criterion': 'gini',\n",
      " 'max_depth': None,\n",
      " 'max_features': 'auto',\n",
      " 'max_leaf_nodes': None,\n",
      " 'max_samples': None,\n",
      " 'min_impurity_decrease': 0.0,\n",
      " 'min_impurity_split': None,\n",
      " 'min_samples_leaf': 1,\n",
      " 'min_samples_split': 2,\n",
      " 'min_weight_fraction_leaf': 0.0,\n",
      " 'n_estimators': 100,\n",
      " 'n_jobs': 1,\n",
      " 'oob_score': False,\n",
      " 'random_state': 42,\n",
      " 'verbose': 0,\n",
      " 'warm_start': False}\n"
     ]
    }
   ],
   "source": [
    "# Look at parameters used by our current forest\n",
    "print('Parameters currently in use:\\n')\n",
    "pprint(rf_cls.get_params())\n",
    "\n",
    "# parameter meanings:\n",
    "# n_estimators = number of trees in the foreset\n",
    "# max_features = max number of features considered for splitting a node\n",
    "# max_depth = max number of levels in each decision tree\n",
    "# min_samples_split = min number of data points placed in a node before the node is split\n",
    "# min_samples_leaf = min number of data points allowed in a leaf node\n",
    "# bootstrap = method for sampling data points (with or without replacement)"
   ]
  },
  {
   "cell_type": "code",
   "execution_count": 9,
   "metadata": {},
   "outputs": [
    {
     "name": "stdout",
     "output_type": "stream",
     "text": [
      "Fitting 5 folds for each of 6 candidates, totalling 30 fits\n",
      "[CV] min_samples_split=2, n_estimators=100 ...........................\n"
     ]
    },
    {
     "name": "stderr",
     "output_type": "stream",
     "text": [
      "[Parallel(n_jobs=1)]: Using backend SequentialBackend with 1 concurrent workers.\n"
     ]
    },
    {
     "name": "stdout",
     "output_type": "stream",
     "text": [
      "[CV] ............ min_samples_split=2, n_estimators=100, total=  13.5s\n",
      "[CV] min_samples_split=2, n_estimators=100 ...........................\n"
     ]
    },
    {
     "name": "stderr",
     "output_type": "stream",
     "text": [
      "[Parallel(n_jobs=1)]: Done   1 out of   1 | elapsed:   13.5s remaining:    0.0s\n"
     ]
    },
    {
     "name": "stdout",
     "output_type": "stream",
     "text": [
      "[CV] ............ min_samples_split=2, n_estimators=100, total=  12.6s\n",
      "[CV] min_samples_split=2, n_estimators=100 ...........................\n",
      "[CV] ............ min_samples_split=2, n_estimators=100, total=  12.8s\n",
      "[CV] min_samples_split=2, n_estimators=100 ...........................\n",
      "[CV] ............ min_samples_split=2, n_estimators=100, total=  12.1s\n",
      "[CV] min_samples_split=2, n_estimators=100 ...........................\n",
      "[CV] ............ min_samples_split=2, n_estimators=100, total=  12.9s\n",
      "[CV] min_samples_split=2, n_estimators=500 ...........................\n",
      "[CV] ............ min_samples_split=2, n_estimators=500, total= 1.0min\n",
      "[CV] min_samples_split=2, n_estimators=500 ...........................\n",
      "[CV] ............ min_samples_split=2, n_estimators=500, total= 1.1min\n",
      "[CV] min_samples_split=2, n_estimators=500 ...........................\n",
      "[CV] ............ min_samples_split=2, n_estimators=500, total= 1.0min\n",
      "[CV] min_samples_split=2, n_estimators=500 ...........................\n",
      "[CV] ............ min_samples_split=2, n_estimators=500, total= 1.0min\n",
      "[CV] min_samples_split=2, n_estimators=500 ...........................\n",
      "[CV] ............ min_samples_split=2, n_estimators=500, total= 1.0min\n",
      "[CV] min_samples_split=2, n_estimators=1000 ..........................\n",
      "[CV] ........... min_samples_split=2, n_estimators=1000, total= 2.1min\n",
      "[CV] min_samples_split=2, n_estimators=1000 ..........................\n",
      "[CV] ........... min_samples_split=2, n_estimators=1000, total= 2.1min\n",
      "[CV] min_samples_split=2, n_estimators=1000 ..........................\n",
      "[CV] ........... min_samples_split=2, n_estimators=1000, total= 2.0min\n",
      "[CV] min_samples_split=2, n_estimators=1000 ..........................\n",
      "[CV] ........... min_samples_split=2, n_estimators=1000, total= 2.1min\n",
      "[CV] min_samples_split=2, n_estimators=1000 ..........................\n",
      "[CV] ........... min_samples_split=2, n_estimators=1000, total= 2.1min\n",
      "[CV] min_samples_split=5, n_estimators=100 ...........................\n",
      "[CV] ............ min_samples_split=5, n_estimators=100, total=  11.6s\n",
      "[CV] min_samples_split=5, n_estimators=100 ...........................\n",
      "[CV] ............ min_samples_split=5, n_estimators=100, total=  11.9s\n",
      "[CV] min_samples_split=5, n_estimators=100 ...........................\n",
      "[CV] ............ min_samples_split=5, n_estimators=100, total=  13.9s\n",
      "[CV] min_samples_split=5, n_estimators=100 ...........................\n",
      "[CV] ............ min_samples_split=5, n_estimators=100, total=  12.1s\n",
      "[CV] min_samples_split=5, n_estimators=100 ...........................\n",
      "[CV] ............ min_samples_split=5, n_estimators=100, total=  11.5s\n",
      "[CV] min_samples_split=5, n_estimators=500 ...........................\n",
      "[CV] ............ min_samples_split=5, n_estimators=500, total=  57.9s\n",
      "[CV] min_samples_split=5, n_estimators=500 ...........................\n",
      "[CV] ............ min_samples_split=5, n_estimators=500, total=  58.7s\n",
      "[CV] min_samples_split=5, n_estimators=500 ...........................\n",
      "[CV] ............ min_samples_split=5, n_estimators=500, total= 1.1min\n",
      "[CV] min_samples_split=5, n_estimators=500 ...........................\n",
      "[CV] ............ min_samples_split=5, n_estimators=500, total= 1.1min\n",
      "[CV] min_samples_split=5, n_estimators=500 ...........................\n",
      "[CV] ............ min_samples_split=5, n_estimators=500, total= 1.1min\n",
      "[CV] min_samples_split=5, n_estimators=1000 ..........................\n",
      "[CV] ........... min_samples_split=5, n_estimators=1000, total= 2.3min\n",
      "[CV] min_samples_split=5, n_estimators=1000 ..........................\n",
      "[CV] ........... min_samples_split=5, n_estimators=1000, total= 2.3min\n",
      "[CV] min_samples_split=5, n_estimators=1000 ..........................\n",
      "[CV] ........... min_samples_split=5, n_estimators=1000, total= 2.2min\n",
      "[CV] min_samples_split=5, n_estimators=1000 ..........................\n",
      "[CV] ........... min_samples_split=5, n_estimators=1000, total= 2.2min\n",
      "[CV] min_samples_split=5, n_estimators=1000 ..........................\n",
      "[CV] ........... min_samples_split=5, n_estimators=1000, total= 2.2min\n"
     ]
    },
    {
     "name": "stderr",
     "output_type": "stream",
     "text": [
      "[Parallel(n_jobs=1)]: Done  30 out of  30 | elapsed: 34.1min finished\n"
     ]
    },
    {
     "name": "stdout",
     "output_type": "stream",
     "text": [
      "Best parameters: {'min_samples_split': 5, 'n_estimators': 1000}\n"
     ]
    }
   ],
   "source": [
    "# tune model \n",
    "rf_parameters = {\"n_estimators\": [100,500,1000],\n",
    "                 \"min_samples_split\": [2,5]}\n",
    "rf_model = RandomForestClassifier()\n",
    "rf_cv_model = GridSearchCV(rf_model,\n",
    "                           rf_parameters,\n",
    "                           cv = 5,\n",
    "                           n_jobs = 1,\n",
    "                           verbose = 2)\n",
    "\n",
    "rf_cv_model.fit(X_transformed, y_train_full)\n",
    "print('Best parameters: ' + str(rf_cv_model.best_params_))"
   ]
  },
  {
   "cell_type": "code",
   "execution_count": null,
   "metadata": {},
   "outputs": [
    {
     "name": "stdout",
     "output_type": "stream",
     "text": [
      "Fitting 3 folds for each of 100 candidates, totalling 300 fits\n"
     ]
    },
    {
     "name": "stderr",
     "output_type": "stream",
     "text": [
      "[Parallel(n_jobs=-1)]: Using backend LokyBackend with 8 concurrent workers.\n"
     ]
    }
   ],
   "source": [
    "rf = RandomForestClassifier(verbose=1)\n",
    "rf_random = RandomizedSearchCV(estimator = rf, param_distributions = random_grid, n_iter = 100, cv = 3, verbose=2, random_state=42, n_jobs = -1)\n",
    "rf_random.fit(X_transformed, y_train_full)"
   ]
  },
  {
   "cell_type": "code",
   "execution_count": 10,
   "metadata": {},
   "outputs": [
    {
     "name": "stdout",
     "output_type": "stream",
     "text": [
      "Model: Random Forest Tuned\n",
      "\n",
      "cross validation accuracy score: 0.8751 +/- 0.0013 (std) min: 0.8736, max: 0.8775\n"
     ]
    }
   ],
   "source": [
    "rf_tuned = RandomForestClassifier(min_samples_split=5, n_estimators=1000)\n",
    "\n",
    "print('Model: Random Forest Tuned\\n')\n",
    "# get cross validation score for the model\n",
    "cv_results = cross_val_score(rf_tuned, X_transformed, y_train_full, \n",
    "                            cv=split, scoring=\"accuracy\")\n",
    "min_score = round(min(cv_results), 4) # round to 4 decimal precision\n",
    "max_score = round(max(cv_results), 4)\n",
    "mean_score = round(np.mean(cv_results), 4)\n",
    "std_dev = round(np.std(cv_results), 4)\n",
    " \n",
    "\n",
    "# rf_cls.fit(X_transformed, y_train_full)\n",
    "\n",
    "# print(\"RF\", classification_report(y_test, predict_rf))\n",
    "# joblib.dump(rf_cls, \"rf_cls.model\")"
   ]
  },
  {
   "cell_type": "code",
   "execution_count": null,
   "metadata": {},
   "outputs": [],
   "source": []
  }
 ],
 "metadata": {
  "anaconda-cloud": {},
  "kernelspec": {
   "display_name": "Python 3",
   "language": "python",
   "name": "python3"
  },
  "language_info": {
   "codemirror_mode": {
    "name": "ipython",
    "version": 3
   },
   "file_extension": ".py",
   "mimetype": "text/x-python",
   "name": "python",
   "nbconvert_exporter": "python",
   "pygments_lexer": "ipython3",
   "version": "3.9.0"
  }
 },
 "nbformat": 4,
 "nbformat_minor": 4
}
