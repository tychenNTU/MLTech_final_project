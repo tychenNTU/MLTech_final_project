{
 "cells": [
  {
   "cell_type": "code",
   "execution_count": 1,
   "metadata": {},
   "outputs": [],
   "source": [
    "import pandas as pd\n",
    "import numpy as np\n",
    "import os\n",
    "from sklearn.ensemble import RandomForestClassifier\n",
    "from sklearn.pipeline import Pipeline\n",
    "from sklearn.model_selection import train_test_split, KFold, cross_validate, cross_val_score, GridSearchCV\n",
    "import joblib\n",
    "import datautil\n",
    "from sklearn.metrics import classification_report"
   ]
  },
  {
   "cell_type": "code",
   "execution_count": 4,
   "metadata": {},
   "outputs": [],
   "source": [
    "full_data = pd.read_csv('../train.csv')\n",
    "full_data = full_data[(full_data['adr'] < 1000) & (full_data['adr'] > -100)] # remove outliers\n",
    "\n",
    "# get the preprocessor and the default training features\n",
    "preprocessor, features_spec = datautil.get_the_data_preprocessor()\n",
    "\n",
    "# split data into input and labeled\n",
    "X_train_full_raw = full_data[features_spec]\n",
    "y_train_full = np.array(full_data['is_canceled'])\n",
    "X_transformed = preprocessor.fit_transform(X_train_full_raw)"
   ]
  },
  {
   "cell_type": "code",
   "execution_count": 5,
   "metadata": {},
   "outputs": [],
   "source": [
    "# build the random forest classifier\n",
    "rf_cls = RandomForestClassifier(random_state=42, n_jobs=-1)\n",
    "kfolds = 5 # 5-cross validation\n",
    "split = KFold(kfolds, shuffle=True, random_state=42)\n",
    "\n",
    "cv_results = cross_val_score(rf_tuned, X_transformed, y_train_full, \n",
    "                            cv=split, scoring=\"accuracy\")\n",
    "p"
   ]
  },
  {
   "cell_type": "code",
   "execution_count": null,
   "metadata": {},
   "outputs": [],
   "source": [
    "# tune model \n",
    "# rf_parameters = {\"max_depth\": [10,13],\n",
    "#                  \"n_estimators\": [10,100,500],\n",
    "#                  \"min_samples_split\": [2,5]}\n",
    "# rf_model = RandomForestClassifier()\n",
    "# rf_cv_model = GridSearchCV(rf_model,\n",
    "#                            rf_parameters,\n",
    "#                            cv = 10,\n",
    "#                            n_jobs = -1,\n",
    "#                            verbose = 2)\n",
    "\n",
    "# rf_cv_model.fit(X_transformed, y_train_full)\n",
    "# print('Best parameters: ' + str(rf_cv_model.best_params_))"
   ]
  },
  {
   "cell_type": "code",
   "execution_count": null,
   "metadata": {},
   "outputs": [],
   "source": [
    "rf_tuned = RandomForestClassifier(max_depth = 13,\n",
    "                                  min_samples_split = 5,\n",
    "                                  n_estimators = 500)\n",
    "\n",
    "print('Model: Random Forest Tuned\\n')\n",
    "# get cross validation score for the model\n",
    "cv_results = cross_val_score(rf_tuned, X_transformed, y_train_full, \n",
    "                            cv=split, scoring=\"accuracy\")\n",
    "min_score = round(min(cv_results), 4) # round to 4 decimal precision\n",
    "max_score = round(max(cv_results), 4)\n",
    "mean_score = round(np.mean(cv_results), 4)\n",
    "std_dev = round(np.std(cv_results), 4)\n",
    "print(f\"cross validation accuracy score: {mean_score} +/- {std_dev} (std) min: {min_score}, max: {max_score}\")\n",
    "\n",
    "\n",
    "# rf_cls.fit(X_transformed, y_train_full)\n",
    "\n",
    "# print(\"RF\", classification_report(y_test, predict_rf))\n",
    "# joblib.dump(rf_cls, \"rf_cls.model\")"
   ]
  }
 ],
 "metadata": {
  "anaconda-cloud": {},
  "kernelspec": {
   "display_name": "Python 3",
   "language": "python",
   "name": "python3"
  },
  "language_info": {
   "codemirror_mode": {
    "name": "ipython",
    "version": 3
   },
   "file_extension": ".py",
   "mimetype": "text/x-python",
   "name": "python",
   "nbconvert_exporter": "python",
   "pygments_lexer": "ipython3",
   "version": "3.8.2"
  }
 },
 "nbformat": 4,
 "nbformat_minor": 4
}
