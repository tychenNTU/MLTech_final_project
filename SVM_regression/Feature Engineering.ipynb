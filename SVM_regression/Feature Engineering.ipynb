{
 "cells": [
  {
   "cell_type": "code",
   "execution_count": 18,
   "metadata": {},
   "outputs": [],
   "source": [
    "import pandas as pd\n",
    "import numpy as np\n",
    "# reference: https://www.kaggle.com/willkoehrsen/introduction-to-feature-selection\n",
    "# https://towardsdatascience.com/svm-feature-selection-and-kernels-840781cc1a6c"
   ]
  },
  {
   "cell_type": "code",
   "execution_count": 2,
   "metadata": {},
   "outputs": [],
   "source": [
    "full_data = pd.read_csv('../train.csv')\n",
    "full_data = full_data[(full_data['adr'] < 1000) & (full_data['adr'] > -100)] # remove outliers\n",
    "full_data = full_data[full_data['is_canceled'] == 0] # only use the uncanceled orders to train"
   ]
  },
  {
   "cell_type": "code",
   "execution_count": 9,
   "metadata": {},
   "outputs": [
    {
     "name": "stdout",
     "output_type": "stream",
     "text": [
      "Total number of features manually extracted: 23\n"
     ]
    }
   ],
   "source": [
    "num_features = [\"lead_time\",\"arrival_date_week_number\",\"arrival_date_day_of_month\",\n",
    "                \"stays_in_weekend_nights\",\"stays_in_week_nights\",\"adults\",\"children\",\n",
    "                \"babies\",\"is_repeated_guest\", \"previous_cancellations\",\n",
    "                \"previous_bookings_not_canceled\",\"agent\",\"company\",\n",
    "                \"required_car_parking_spaces\", \"total_of_special_requests\"]\n",
    "\n",
    "cat_features = [\"hotel\",\"arrival_date_month\",\"meal\",\"market_segment\",\n",
    "                \"distribution_channel\",\"reserved_room_type\",\"deposit_type\",\"customer_type\"]\n",
    "print(\"Total number of features manually extracted: \" + str(len(num_features) + len(cat_features)))"
   ]
  },
  {
   "cell_type": "code",
   "execution_count": 42,
   "metadata": {},
   "outputs": [
    {
     "data": {
      "text/plain": [
       "(58766, 23)"
      ]
     },
     "execution_count": 42,
     "metadata": {},
     "output_type": "execute_result"
    }
   ],
   "source": [
    "train_x = full_data[num_features + cat_features]\n",
    "features_names = num_features + cat_features\n",
    "train_x.shape"
   ]
  },
  {
   "cell_type": "markdown",
   "metadata": {},
   "source": [
    "# Remove Collinear Variables\n",
    "However, we found that the numerical columns are all not so correlated, so we didn't remove any of them"
   ]
  },
  {
   "cell_type": "code",
   "execution_count": 16,
   "metadata": {},
   "outputs": [
    {
     "data": {
      "text/html": [
       "<div>\n",
       "<style scoped>\n",
       "    .dataframe tbody tr th:only-of-type {\n",
       "        vertical-align: middle;\n",
       "    }\n",
       "\n",
       "    .dataframe tbody tr th {\n",
       "        vertical-align: top;\n",
       "    }\n",
       "\n",
       "    .dataframe thead th {\n",
       "        text-align: right;\n",
       "    }\n",
       "</style>\n",
       "<table border=\"1\" class=\"dataframe\">\n",
       "  <thead>\n",
       "    <tr style=\"text-align: right;\">\n",
       "      <th></th>\n",
       "      <th>lead_time</th>\n",
       "      <th>arrival_date_week_number</th>\n",
       "      <th>arrival_date_day_of_month</th>\n",
       "      <th>stays_in_weekend_nights</th>\n",
       "      <th>stays_in_week_nights</th>\n",
       "      <th>adults</th>\n",
       "      <th>children</th>\n",
       "      <th>babies</th>\n",
       "      <th>is_repeated_guest</th>\n",
       "      <th>previous_cancellations</th>\n",
       "      <th>previous_bookings_not_canceled</th>\n",
       "      <th>agent</th>\n",
       "      <th>company</th>\n",
       "      <th>required_car_parking_spaces</th>\n",
       "      <th>total_of_special_requests</th>\n",
       "    </tr>\n",
       "  </thead>\n",
       "  <tbody>\n",
       "    <tr>\n",
       "      <th>lead_time</th>\n",
       "      <td>1.000000</td>\n",
       "      <td>0.134553</td>\n",
       "      <td>0.025681</td>\n",
       "      <td>0.186958</td>\n",
       "      <td>0.285071</td>\n",
       "      <td>0.125150</td>\n",
       "      <td>0.026734</td>\n",
       "      <td>0.015798</td>\n",
       "      <td>0.154862</td>\n",
       "      <td>0.040152</td>\n",
       "      <td>0.079817</td>\n",
       "      <td>0.029541</td>\n",
       "      <td>0.156951</td>\n",
       "      <td>0.085576</td>\n",
       "      <td>0.006941</td>\n",
       "    </tr>\n",
       "    <tr>\n",
       "      <th>arrival_date_week_number</th>\n",
       "      <td>0.134553</td>\n",
       "      <td>1.000000</td>\n",
       "      <td>0.078190</td>\n",
       "      <td>0.031746</td>\n",
       "      <td>0.035357</td>\n",
       "      <td>0.032238</td>\n",
       "      <td>0.003772</td>\n",
       "      <td>0.006699</td>\n",
       "      <td>0.055524</td>\n",
       "      <td>0.032710</td>\n",
       "      <td>0.031342</td>\n",
       "      <td>0.005286</td>\n",
       "      <td>0.093608</td>\n",
       "      <td>0.002509</td>\n",
       "      <td>0.036335</td>\n",
       "    </tr>\n",
       "    <tr>\n",
       "      <th>arrival_date_day_of_month</th>\n",
       "      <td>0.025681</td>\n",
       "      <td>0.078190</td>\n",
       "      <td>1.000000</td>\n",
       "      <td>0.024729</td>\n",
       "      <td>0.025252</td>\n",
       "      <td>0.002223</td>\n",
       "      <td>0.018744</td>\n",
       "      <td>0.000902</td>\n",
       "      <td>0.005066</td>\n",
       "      <td>0.006765</td>\n",
       "      <td>0.001018</td>\n",
       "      <td>0.002320</td>\n",
       "      <td>0.032566</td>\n",
       "      <td>0.009199</td>\n",
       "      <td>0.006716</td>\n",
       "    </tr>\n",
       "    <tr>\n",
       "      <th>stays_in_weekend_nights</th>\n",
       "      <td>0.186958</td>\n",
       "      <td>0.031746</td>\n",
       "      <td>0.024729</td>\n",
       "      <td>1.000000</td>\n",
       "      <td>0.520067</td>\n",
       "      <td>0.131191</td>\n",
       "      <td>0.016072</td>\n",
       "      <td>0.013282</td>\n",
       "      <td>0.113629</td>\n",
       "      <td>0.024726</td>\n",
       "      <td>0.053062</td>\n",
       "      <td>0.099975</td>\n",
       "      <td>0.102474</td>\n",
       "      <td>0.025387</td>\n",
       "      <td>0.064818</td>\n",
       "    </tr>\n",
       "    <tr>\n",
       "      <th>stays_in_week_nights</th>\n",
       "      <td>0.285071</td>\n",
       "      <td>0.035357</td>\n",
       "      <td>0.025252</td>\n",
       "      <td>0.520067</td>\n",
       "      <td>1.000000</td>\n",
       "      <td>0.132806</td>\n",
       "      <td>0.012354</td>\n",
       "      <td>0.011631</td>\n",
       "      <td>0.126741</td>\n",
       "      <td>0.026698</td>\n",
       "      <td>0.058881</td>\n",
       "      <td>0.149081</td>\n",
       "      <td>0.176029</td>\n",
       "      <td>0.028805</td>\n",
       "      <td>0.060801</td>\n",
       "    </tr>\n",
       "  </tbody>\n",
       "</table>\n",
       "</div>"
      ],
      "text/plain": [
       "                           lead_time  arrival_date_week_number  \\\n",
       "lead_time                   1.000000                  0.134553   \n",
       "arrival_date_week_number    0.134553                  1.000000   \n",
       "arrival_date_day_of_month   0.025681                  0.078190   \n",
       "stays_in_weekend_nights     0.186958                  0.031746   \n",
       "stays_in_week_nights        0.285071                  0.035357   \n",
       "\n",
       "                           arrival_date_day_of_month  stays_in_weekend_nights  \\\n",
       "lead_time                                   0.025681                 0.186958   \n",
       "arrival_date_week_number                    0.078190                 0.031746   \n",
       "arrival_date_day_of_month                   1.000000                 0.024729   \n",
       "stays_in_weekend_nights                     0.024729                 1.000000   \n",
       "stays_in_week_nights                        0.025252                 0.520067   \n",
       "\n",
       "                           stays_in_week_nights    adults  children    babies  \\\n",
       "lead_time                              0.285071  0.125150  0.026734  0.015798   \n",
       "arrival_date_week_number               0.035357  0.032238  0.003772  0.006699   \n",
       "arrival_date_day_of_month              0.025252  0.002223  0.018744  0.000902   \n",
       "stays_in_weekend_nights                0.520067  0.131191  0.016072  0.013282   \n",
       "stays_in_week_nights                   1.000000  0.132806  0.012354  0.011631   \n",
       "\n",
       "                           is_repeated_guest  previous_cancellations  \\\n",
       "lead_time                           0.154862                0.040152   \n",
       "arrival_date_week_number            0.055524                0.032710   \n",
       "arrival_date_day_of_month           0.005066                0.006765   \n",
       "stays_in_weekend_nights             0.113629                0.024726   \n",
       "stays_in_week_nights                0.126741                0.026698   \n",
       "\n",
       "                           previous_bookings_not_canceled     agent   company  \\\n",
       "lead_time                                        0.079817  0.029541  0.156951   \n",
       "arrival_date_week_number                         0.031342  0.005286  0.093608   \n",
       "arrival_date_day_of_month                        0.001018  0.002320  0.032566   \n",
       "stays_in_weekend_nights                          0.053062  0.099975  0.102474   \n",
       "stays_in_week_nights                             0.058881  0.149081  0.176029   \n",
       "\n",
       "                           required_car_parking_spaces  \\\n",
       "lead_time                                     0.085576   \n",
       "arrival_date_week_number                      0.002509   \n",
       "arrival_date_day_of_month                     0.009199   \n",
       "stays_in_weekend_nights                       0.025387   \n",
       "stays_in_week_nights                          0.028805   \n",
       "\n",
       "                           total_of_special_requests  \n",
       "lead_time                                   0.006941  \n",
       "arrival_date_week_number                    0.036335  \n",
       "arrival_date_day_of_month                   0.006716  \n",
       "stays_in_weekend_nights                     0.064818  \n",
       "stays_in_week_nights                        0.060801  "
      ]
     },
     "execution_count": 16,
     "metadata": {},
     "output_type": "execute_result"
    }
   ],
   "source": [
    "# Threshold for removing correlated variables\n",
    "threshold = 0.9\n",
    "\n",
    "# Absolute value correlation matrix\n",
    "corr_matrix = train_x.corr().abs()\n",
    "corr_matrix.head()"
   ]
  },
  {
   "cell_type": "code",
   "execution_count": 19,
   "metadata": {},
   "outputs": [
    {
     "data": {
      "text/html": [
       "<div>\n",
       "<style scoped>\n",
       "    .dataframe tbody tr th:only-of-type {\n",
       "        vertical-align: middle;\n",
       "    }\n",
       "\n",
       "    .dataframe tbody tr th {\n",
       "        vertical-align: top;\n",
       "    }\n",
       "\n",
       "    .dataframe thead th {\n",
       "        text-align: right;\n",
       "    }\n",
       "</style>\n",
       "<table border=\"1\" class=\"dataframe\">\n",
       "  <thead>\n",
       "    <tr style=\"text-align: right;\">\n",
       "      <th></th>\n",
       "      <th>lead_time</th>\n",
       "      <th>arrival_date_week_number</th>\n",
       "      <th>arrival_date_day_of_month</th>\n",
       "      <th>stays_in_weekend_nights</th>\n",
       "      <th>stays_in_week_nights</th>\n",
       "      <th>adults</th>\n",
       "      <th>children</th>\n",
       "      <th>babies</th>\n",
       "      <th>is_repeated_guest</th>\n",
       "      <th>previous_cancellations</th>\n",
       "      <th>previous_bookings_not_canceled</th>\n",
       "      <th>agent</th>\n",
       "      <th>company</th>\n",
       "      <th>required_car_parking_spaces</th>\n",
       "      <th>total_of_special_requests</th>\n",
       "    </tr>\n",
       "  </thead>\n",
       "  <tbody>\n",
       "    <tr>\n",
       "      <th>lead_time</th>\n",
       "      <td>NaN</td>\n",
       "      <td>0.134553</td>\n",
       "      <td>0.025681</td>\n",
       "      <td>0.186958</td>\n",
       "      <td>0.285071</td>\n",
       "      <td>0.125150</td>\n",
       "      <td>0.026734</td>\n",
       "      <td>0.015798</td>\n",
       "      <td>0.154862</td>\n",
       "      <td>0.040152</td>\n",
       "      <td>0.079817</td>\n",
       "      <td>0.029541</td>\n",
       "      <td>0.156951</td>\n",
       "      <td>0.085576</td>\n",
       "      <td>0.006941</td>\n",
       "    </tr>\n",
       "    <tr>\n",
       "      <th>arrival_date_week_number</th>\n",
       "      <td>NaN</td>\n",
       "      <td>NaN</td>\n",
       "      <td>0.078190</td>\n",
       "      <td>0.031746</td>\n",
       "      <td>0.035357</td>\n",
       "      <td>0.032238</td>\n",
       "      <td>0.003772</td>\n",
       "      <td>0.006699</td>\n",
       "      <td>0.055524</td>\n",
       "      <td>0.032710</td>\n",
       "      <td>0.031342</td>\n",
       "      <td>0.005286</td>\n",
       "      <td>0.093608</td>\n",
       "      <td>0.002509</td>\n",
       "      <td>0.036335</td>\n",
       "    </tr>\n",
       "    <tr>\n",
       "      <th>arrival_date_day_of_month</th>\n",
       "      <td>NaN</td>\n",
       "      <td>NaN</td>\n",
       "      <td>NaN</td>\n",
       "      <td>0.024729</td>\n",
       "      <td>0.025252</td>\n",
       "      <td>0.002223</td>\n",
       "      <td>0.018744</td>\n",
       "      <td>0.000902</td>\n",
       "      <td>0.005066</td>\n",
       "      <td>0.006765</td>\n",
       "      <td>0.001018</td>\n",
       "      <td>0.002320</td>\n",
       "      <td>0.032566</td>\n",
       "      <td>0.009199</td>\n",
       "      <td>0.006716</td>\n",
       "    </tr>\n",
       "    <tr>\n",
       "      <th>stays_in_weekend_nights</th>\n",
       "      <td>NaN</td>\n",
       "      <td>NaN</td>\n",
       "      <td>NaN</td>\n",
       "      <td>NaN</td>\n",
       "      <td>0.520067</td>\n",
       "      <td>0.131191</td>\n",
       "      <td>0.016072</td>\n",
       "      <td>0.013282</td>\n",
       "      <td>0.113629</td>\n",
       "      <td>0.024726</td>\n",
       "      <td>0.053062</td>\n",
       "      <td>0.099975</td>\n",
       "      <td>0.102474</td>\n",
       "      <td>0.025387</td>\n",
       "      <td>0.064818</td>\n",
       "    </tr>\n",
       "    <tr>\n",
       "      <th>stays_in_week_nights</th>\n",
       "      <td>NaN</td>\n",
       "      <td>NaN</td>\n",
       "      <td>NaN</td>\n",
       "      <td>NaN</td>\n",
       "      <td>NaN</td>\n",
       "      <td>0.132806</td>\n",
       "      <td>0.012354</td>\n",
       "      <td>0.011631</td>\n",
       "      <td>0.126741</td>\n",
       "      <td>0.026698</td>\n",
       "      <td>0.058881</td>\n",
       "      <td>0.149081</td>\n",
       "      <td>0.176029</td>\n",
       "      <td>0.028805</td>\n",
       "      <td>0.060801</td>\n",
       "    </tr>\n",
       "  </tbody>\n",
       "</table>\n",
       "</div>"
      ],
      "text/plain": [
       "                           lead_time  arrival_date_week_number  \\\n",
       "lead_time                        NaN                  0.134553   \n",
       "arrival_date_week_number         NaN                       NaN   \n",
       "arrival_date_day_of_month        NaN                       NaN   \n",
       "stays_in_weekend_nights          NaN                       NaN   \n",
       "stays_in_week_nights             NaN                       NaN   \n",
       "\n",
       "                           arrival_date_day_of_month  stays_in_weekend_nights  \\\n",
       "lead_time                                   0.025681                 0.186958   \n",
       "arrival_date_week_number                    0.078190                 0.031746   \n",
       "arrival_date_day_of_month                        NaN                 0.024729   \n",
       "stays_in_weekend_nights                          NaN                      NaN   \n",
       "stays_in_week_nights                             NaN                      NaN   \n",
       "\n",
       "                           stays_in_week_nights    adults  children    babies  \\\n",
       "lead_time                              0.285071  0.125150  0.026734  0.015798   \n",
       "arrival_date_week_number               0.035357  0.032238  0.003772  0.006699   \n",
       "arrival_date_day_of_month              0.025252  0.002223  0.018744  0.000902   \n",
       "stays_in_weekend_nights                0.520067  0.131191  0.016072  0.013282   \n",
       "stays_in_week_nights                        NaN  0.132806  0.012354  0.011631   \n",
       "\n",
       "                           is_repeated_guest  previous_cancellations  \\\n",
       "lead_time                           0.154862                0.040152   \n",
       "arrival_date_week_number            0.055524                0.032710   \n",
       "arrival_date_day_of_month           0.005066                0.006765   \n",
       "stays_in_weekend_nights             0.113629                0.024726   \n",
       "stays_in_week_nights                0.126741                0.026698   \n",
       "\n",
       "                           previous_bookings_not_canceled     agent   company  \\\n",
       "lead_time                                        0.079817  0.029541  0.156951   \n",
       "arrival_date_week_number                         0.031342  0.005286  0.093608   \n",
       "arrival_date_day_of_month                        0.001018  0.002320  0.032566   \n",
       "stays_in_weekend_nights                          0.053062  0.099975  0.102474   \n",
       "stays_in_week_nights                             0.058881  0.149081  0.176029   \n",
       "\n",
       "                           required_car_parking_spaces  \\\n",
       "lead_time                                     0.085576   \n",
       "arrival_date_week_number                      0.002509   \n",
       "arrival_date_day_of_month                     0.009199   \n",
       "stays_in_weekend_nights                       0.025387   \n",
       "stays_in_week_nights                          0.028805   \n",
       "\n",
       "                           total_of_special_requests  \n",
       "lead_time                                   0.006941  \n",
       "arrival_date_week_number                    0.036335  \n",
       "arrival_date_day_of_month                   0.006716  \n",
       "stays_in_weekend_nights                     0.064818  \n",
       "stays_in_week_nights                        0.060801  "
      ]
     },
     "execution_count": 19,
     "metadata": {},
     "output_type": "execute_result"
    }
   ],
   "source": [
    "# Upper triangle of correlations\n",
    "upper = corr_matrix.where(np.triu(np.ones(corr_matrix.shape), k=1).astype(np.bool))\n",
    "upper.head()"
   ]
  },
  {
   "cell_type": "code",
   "execution_count": 20,
   "metadata": {},
   "outputs": [
    {
     "name": "stdout",
     "output_type": "stream",
     "text": [
      "There are 0 columns to remove.\n"
     ]
    }
   ],
   "source": [
    "# Select columns with correlations above threshold\n",
    "to_drop = [column for column in upper.columns if any(upper[column] > threshold)]\n",
    "\n",
    "print('There are %d columns to remove.' % (len(to_drop)))"
   ]
  },
  {
   "cell_type": "markdown",
   "metadata": {},
   "source": [
    "# Feature Selection through Feature Importances"
   ]
  },
  {
   "cell_type": "code",
   "execution_count": 76,
   "metadata": {},
   "outputs": [],
   "source": [
    "import sys\n",
    "DATA_UTIL_PATH = \"../\"\n",
    "sys.path.append(DATA_UTIL_PATH)\n",
    "import datautil\n",
    "\n",
    "from sklearn.model_selection import train_test_split\n",
    "from sklearn.model_selection import KFold\n",
    "from sklearn.metrics import roc_auc_score\n",
    "from sklearn.preprocessing import LabelEncoder\n",
    "from sklearn.feature_selection import SelectFromModel\n",
    "from sklearn.metrics import classification_report,confusion_matrix\n",
    "\n",
    "from matplotlib import pyplot as plt\n",
    "from sklearn.svm import SVR\n",
    "from joblib import dump, load"
   ]
  },
  {
   "cell_type": "code",
   "execution_count": 48,
   "metadata": {},
   "outputs": [
    {
     "name": "stdout",
     "output_type": "stream",
     "text": [
      "shape of train_x is (58766, 62)\n",
      "shape of train_y is (58766,)\n"
     ]
    }
   ],
   "source": [
    "# get data that is already processed (imputed and one-hot encoded)\n",
    "train_x, train_y = datautil.get_preprocessed_xy()\n",
    "print(\"shape of train_x is \" + str(train_x.shape))\n",
    "print(\"shape of train_y is \" + str(train_y.shape))"
   ]
  },
  {
   "cell_type": "code",
   "execution_count": 52,
   "metadata": {},
   "outputs": [
    {
     "name": "stdout",
     "output_type": "stream",
     "text": [
      "[LibSVM]"
     ]
    },
    {
     "data": {
      "text/plain": [
       "SVR(kernel='linear', verbose=3)"
      ]
     },
     "execution_count": 52,
     "metadata": {},
     "output_type": "execute_result"
    }
   ],
   "source": [
    "# Initialize an empty array to hold feature importances\n",
    "feature_importances = np.zeros(train_x.shape[1])\n",
    "\n",
    "# only linear kernel has coef_, so here we use SVR model with linear kernel to find out the importance of features\n",
    "model = SVR(kernel='linear', verbose=3)\n",
    "model.fit(train_x, train_y) "
   ]
  },
  {
   "cell_type": "code",
   "execution_count": 70,
   "metadata": {},
   "outputs": [
    {
     "data": {
      "text/plain": [
       "array([[-1.20664054e+01,  2.91193459e+00,  5.04769345e-01,\n",
       "         7.04928321e+00, -8.80160925e+00,  4.90808355e+00,\n",
       "         5.56154408e+00,  1.92605890e-01, -8.38178884e-01,\n",
       "         6.58854362e-02, -3.15597302e-01,  8.92794374e-01,\n",
       "         1.72475939e+00,  2.11472214e+00,  1.39728476e+00,\n",
       "         2.36444262e+01, -2.36444262e+01, -2.12807732e+00,\n",
       "         2.16732051e+01, -1.93004643e+01, -1.19127984e+01,\n",
       "        -1.41071144e+01,  1.96112781e+01,  1.42829833e+01,\n",
       "        -9.20366741e+00,  8.31532378e+00, -1.82269174e+01,\n",
       "        -2.67201878e+00,  1.36682679e+01, -1.85489946e+01,\n",
       "         2.10000000e+01,  5.83804535e+00, -2.74230831e+01,\n",
       "         1.91340323e+01,  1.22931920e+01, -7.05113726e+01,\n",
       "         5.05082430e+00,  1.97779767e+01,  5.13230000e+00,\n",
       "         4.76579196e+00,  2.34912877e+01, -1.89106795e+00,\n",
       "        -2.60645888e+00,  1.24263059e+01, -6.92877906e+00,\n",
       "        -1.00000000e+00, -2.35204535e+01, -3.85795888e+01,\n",
       "         6.53408346e+00, -9.37409250e+00, -5.40662597e-01,\n",
       "         1.58865889e+01,  2.26956946e+01,  2.48984304e+01,\n",
       "         2.00000000e+00, -7.94412857e+00, -4.14943037e+00,\n",
       "         1.20935589e+01,  1.56174086e-01, -4.90444956e+00,\n",
       "         2.29208137e+00,  2.45619410e+00]])"
      ]
     },
     "execution_count": 70,
     "metadata": {},
     "output_type": "execute_result"
    }
   ],
   "source": [
    "model_new = SelectFromModel(model, prefit=True)\n",
    "model_new.estimator.coef_"
   ]
  },
  {
   "cell_type": "code",
   "execution_count": null,
   "metadata": {},
   "outputs": [],
   "source": []
  },
  {
   "cell_type": "code",
   "execution_count": 74,
   "metadata": {},
   "outputs": [],
   "source": [
    "def feature_plot(classifier, feature_names, top_features=10):\n",
    "     coef = classifier.coef_.ravel()\n",
    "     top_positive_coefficients = np.argsort(coef)[-top_features:]\n",
    "     top_negative_coefficients = np.argsort(coef)[:top_features]\n",
    "     top_coefficients = np.hstack([top_negative_coefficients, top_positive_coefficients])\n",
    "     plt.figure(figsize=(18, 7))\n",
    "     colors = ['green' if c < 0 else 'blue' for c in coef[top_coefficients]]\n",
    "     plt.bar(np.arange(2 * top_features), coef[top_coefficients], color=colors)\n",
    "     feature_names = np.array(feature_names)\n",
    "     plt.xticks(np.arange(1 + 2 * top_features), feature_names[top_coefficients], rotation=45, ha='right')\n",
    "     plt.show()"
   ]
  },
  {
   "cell_type": "code",
   "execution_count": 75,
   "metadata": {},
   "outputs": [
    {
     "ename": "IndexError",
     "evalue": "index 35 is out of bounds for axis 0 with size 23",
     "output_type": "error",
     "traceback": [
      "\u001b[1;31m---------------------------------------------------------------------------\u001b[0m",
      "\u001b[1;31mIndexError\u001b[0m                                Traceback (most recent call last)",
      "\u001b[1;32m<ipython-input-75-6e7854b01961>\u001b[0m in \u001b[0;36m<module>\u001b[1;34m\u001b[0m\n\u001b[1;32m----> 1\u001b[1;33m \u001b[0mfeature_plot\u001b[0m\u001b[1;33m(\u001b[0m\u001b[0mmodel_new\u001b[0m\u001b[1;33m.\u001b[0m\u001b[0mestimator\u001b[0m\u001b[1;33m,\u001b[0m \u001b[0mfeatures_names\u001b[0m\u001b[1;33m)\u001b[0m\u001b[1;33m\u001b[0m\u001b[1;33m\u001b[0m\u001b[0m\n\u001b[0m",
      "\u001b[1;32m<ipython-input-74-452db2f7191a>\u001b[0m in \u001b[0;36mfeature_plot\u001b[1;34m(classifier, feature_names, top_features)\u001b[0m\n\u001b[0;32m      8\u001b[0m      \u001b[0mplt\u001b[0m\u001b[1;33m.\u001b[0m\u001b[0mbar\u001b[0m\u001b[1;33m(\u001b[0m\u001b[0mnp\u001b[0m\u001b[1;33m.\u001b[0m\u001b[0marange\u001b[0m\u001b[1;33m(\u001b[0m\u001b[1;36m2\u001b[0m \u001b[1;33m*\u001b[0m \u001b[0mtop_features\u001b[0m\u001b[1;33m)\u001b[0m\u001b[1;33m,\u001b[0m \u001b[0mcoef\u001b[0m\u001b[1;33m[\u001b[0m\u001b[0mtop_coefficients\u001b[0m\u001b[1;33m]\u001b[0m\u001b[1;33m,\u001b[0m \u001b[0mcolor\u001b[0m\u001b[1;33m=\u001b[0m\u001b[0mcolors\u001b[0m\u001b[1;33m)\u001b[0m\u001b[1;33m\u001b[0m\u001b[1;33m\u001b[0m\u001b[0m\n\u001b[0;32m      9\u001b[0m      \u001b[0mfeature_names\u001b[0m \u001b[1;33m=\u001b[0m \u001b[0mnp\u001b[0m\u001b[1;33m.\u001b[0m\u001b[0marray\u001b[0m\u001b[1;33m(\u001b[0m\u001b[0mfeature_names\u001b[0m\u001b[1;33m)\u001b[0m\u001b[1;33m\u001b[0m\u001b[1;33m\u001b[0m\u001b[0m\n\u001b[1;32m---> 10\u001b[1;33m      \u001b[0mplt\u001b[0m\u001b[1;33m.\u001b[0m\u001b[0mxticks\u001b[0m\u001b[1;33m(\u001b[0m\u001b[0mnp\u001b[0m\u001b[1;33m.\u001b[0m\u001b[0marange\u001b[0m\u001b[1;33m(\u001b[0m\u001b[1;36m1\u001b[0m \u001b[1;33m+\u001b[0m \u001b[1;36m2\u001b[0m \u001b[1;33m*\u001b[0m \u001b[0mtop_features\u001b[0m\u001b[1;33m)\u001b[0m\u001b[1;33m,\u001b[0m \u001b[0mfeature_names\u001b[0m\u001b[1;33m[\u001b[0m\u001b[0mtop_coefficients\u001b[0m\u001b[1;33m]\u001b[0m\u001b[1;33m,\u001b[0m \u001b[0mrotation\u001b[0m\u001b[1;33m=\u001b[0m\u001b[1;36m45\u001b[0m\u001b[1;33m,\u001b[0m \u001b[0mha\u001b[0m\u001b[1;33m=\u001b[0m\u001b[1;34m'right'\u001b[0m\u001b[1;33m)\u001b[0m\u001b[1;33m\u001b[0m\u001b[1;33m\u001b[0m\u001b[0m\n\u001b[0m\u001b[0;32m     11\u001b[0m      \u001b[0mplt\u001b[0m\u001b[1;33m.\u001b[0m\u001b[0mshow\u001b[0m\u001b[1;33m(\u001b[0m\u001b[1;33m)\u001b[0m\u001b[1;33m\u001b[0m\u001b[1;33m\u001b[0m\u001b[0m\n",
      "\u001b[1;31mIndexError\u001b[0m: index 35 is out of bounds for axis 0 with size 23"
     ]
    },
    {
     "data": {
      "image/png": "[encoded data removed]",
      "text/plain": [
       "<Figure size 1296x504 with 1 Axes>"
      ]
     },
     "metadata": {
      "needs_background": "light"
     },
     "output_type": "display_data"
    }
   ],
   "source": [
    "feature_plot(model_new.estimator, features_names)"
   ]
  },
  {
   "cell_type": "code",
   "execution_count": null,
   "metadata": {},
   "outputs": [],
   "source": []
  }
 ],
 "metadata": {
  "kernelspec": {
   "display_name": "Python 3",
   "language": "python",
   "name": "python3"
  },
  "language_info": {
   "codemirror_mode": {
    "name": "ipython",
    "version": 3
   },
   "file_extension": ".py",
   "mimetype": "text/x-python",
   "name": "python",
   "nbconvert_exporter": "python",
   "pygments_lexer": "ipython3",
   "version": "3.8.2"
  }
 },
 "nbformat": 4,
 "nbformat_minor": 4
}
